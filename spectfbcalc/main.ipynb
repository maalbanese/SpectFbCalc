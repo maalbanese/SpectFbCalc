{
 "cells": [
  {
   "cell_type": "markdown",
   "metadata": {},
   "source": [
    "## Main notebook"
   ]
  },
  {
   "cell_type": "markdown",
   "metadata": {},
   "source": [
    "### Import libraries"
   ]
  },
  {
   "cell_type": "code",
   "execution_count": 1,
   "metadata": {},
   "outputs": [
    {
     "name": "stdout",
     "output_type": "stream",
     "text": [
      "No DISPLAY variable set. Switching to agg backend\n"
     ]
    }
   ],
   "source": [
    "import sys\n",
    "sys.path.append('/work/users/malbanese/radspesoft/ClimTools/climtools') \n",
    "\n",
    "import numpy as np \n",
    "import os \n",
    "import re\n",
    "import glob \n",
    "import xarray as xr\n",
    "import time \n",
    "import matplotlib.cbook as cbook \n",
    "import pickle \n",
    "import dask.array as da\n",
    "\n",
    "from climtools import climtools_lib as ctl\n",
    "from matplotlib import pyplot as plt\n",
    "from scipy import stats \n",
    "from cftime import DatetimeGregorian"
   ]
  },
  {
   "cell_type": "code",
   "execution_count": 2,
   "metadata": {},
   "outputs": [],
   "source": [
    "%matplotlib inline"
   ]
  },
  {
   "cell_type": "markdown",
   "metadata": {},
   "source": [
    "### Import Functions"
   ]
  },
  {
   "cell_type": "code",
   "execution_count": 3,
   "metadata": {},
   "outputs": [],
   "source": [
    "from utils import load_kernel, regrid_files, climatology, mask_atm, mask_pres, pliq, pice, dlnws, fb_planck_surf, fb_plank_atm_lr, fb_albedo, fb_wv, calc_fb, fb_cloud\n",
    "from plot import plot_dRt"
   ]
  },
  {
   "cell_type": "markdown",
   "metadata": {},
   "source": [
    "### Regridding simulations from EC-Earth4"
   ]
  },
  {
   "cell_type": "code",
   "execution_count": null,
   "metadata": {},
   "outputs": [],
   "source": [
    "input_pattern = \"/work/users/malbanese/radspesoft/t_sim/s003/oifs/s003_atm_cmip6_pl_1m_*.nc\"  # Use glob pattern to match all .nc files in the folder\n",
    "target_grid = \"r180x90\"\n",
    "method = \"ycon\"\n",
    "output_dir = \"/work/users/malbanese/radspesoft/t_sim/s003/oifs\"\n",
    "\n",
    "regrid_files(input_pattern, target_grid, method, output_dir)"
   ]
  },
  {
   "cell_type": "markdown",
   "metadata": {},
   "source": [
    "## Import kernels"
   ]
  },
  {
   "cell_type": "markdown",
   "metadata": {},
   "source": [
    "### Huang radiative kernels"
   ]
  },
  {
   "cell_type": "code",
   "execution_count": 12,
   "metadata": {},
   "outputs": [],
   "source": [
    "config_file = \"/work/users/malbanese/radspesoft/config.yaml\"\n",
    "broadband_kernels = load_kernel(config_file)"
   ]
  },
  {
   "cell_type": "markdown",
   "metadata": {},
   "source": [
    "## Feedbacks calculation"
   ]
  },
  {
   "cell_type": "code",
   "execution_count": 5,
   "metadata": {},
   "outputs": [],
   "source": [
    "# Set up logging for detailed outputs\n",
    "import logging\n",
    "from importlib import reload\n",
    "\n",
    "# Initialize the logging module\n",
    "reload(logging)\n",
    "logging.basicConfig(level=logging.INFO, format='%(asctime)s - %(levelname)s - %(message)s')"
   ]
  },
  {
   "cell_type": "markdown",
   "metadata": {},
   "source": [
    "### Surface Planck feedback"
   ]
  },
  {
   "cell_type": "code",
   "execution_count": 5,
   "metadata": {},
   "outputs": [
    {
     "name": "stderr",
     "output_type": "stream",
     "text": [
      "2025-02-03 16:14:51,526 - INFO - Starting fb_planck_surf function.\n",
      "2025-02-03 16:14:51,532 - INFO - Loading kernel data from file.\n",
      "2025-02-03 16:14:51,623 - INFO - Loading input files.\n",
      "2025-02-03 16:14:54,972 - INFO - Computing climatology.\n"
     ]
    },
    {
     "name": "stdout",
     "output_type": "stream",
     "text": [
      "Regridding completed in 0:00:02.734191\n",
      "Regridding completed in 0:00:00.489754\n"
     ]
    },
    {
     "name": "stderr",
     "output_type": "stream",
     "text": [
      "2025-02-03 16:14:57,921 - INFO - Computing anomalies.\n",
      "2025-02-03 16:14:58,760 - INFO - Computing global temperature anomalies.\n",
      "2025-02-03 16:14:59,837 - INFO - Processing feedbacks for clr.\n",
      "2025-02-03 16:15:00,042 - INFO - Saved clr feedback to file.\n",
      "2025-02-03 16:15:00,043 - INFO - Processing feedbacks for cld.\n",
      "2025-02-03 16:15:00,262 - INFO - Saved cld feedback to file.\n",
      "2025-02-03 16:15:00,263 - INFO - Function completed in 8.73 seconds.\n"
     ]
    }
   ],
   "source": [
    "\n",
    "config_file = \"/work/users/malbanese/radspesoft/config.yaml\"\n",
    "sf_feedback = fb_planck_surf(config_file)"
   ]
  },
  {
   "cell_type": "markdown",
   "metadata": {},
   "source": [
    "### Atmospheric Planck and lapse-rate feedbacks"
   ]
  },
  {
   "cell_type": "code",
   "execution_count": 5,
   "metadata": {},
   "outputs": [
    {
     "name": "stderr",
     "output_type": "stream",
     "text": [
      "2025-02-03 17:11:17,010 - INFO - Starting fb_plank_atm_lr function.\n",
      "2025-02-03 17:11:17,017 - INFO - Loading kernel data from file.\n",
      "2025-02-03 17:11:17,106 - INFO - Loading input files.\n",
      "2025-02-03 17:11:20,712 - INFO - Computing climatology.\n"
     ]
    },
    {
     "name": "stdout",
     "output_type": "stream",
     "text": [
      "Regridding completed in 0:00:03.173742\n",
      "Regridding completed in 0:00:00.329995\n"
     ]
    },
    {
     "name": "stderr",
     "output_type": "stream",
     "text": [
      "2025-02-03 17:11:29,907 - INFO - Computing anomalies.\n"
     ]
    },
    {
     "name": "stdout",
     "output_type": "stream",
     "text": [
      "Regridding completed in 0:00:00.298055\n",
      "Regridding completed in 0:00:00.283479\n"
     ]
    },
    {
     "name": "stderr",
     "output_type": "stream",
     "text": [
      "2025-02-03 17:12:02,844 - INFO - Function completed in 17.02 seconds.\n",
      "2025-02-03 17:12:04,172 - INFO - Processing feedbacks for clr.\n",
      "2025-02-03 17:14:05,268 - INFO - Saved clr feedback to file.\n",
      "2025-02-03 17:14:05,278 - INFO - Processing feedbacks for cld.\n",
      "2025-02-03 17:14:14,672 - INFO - Saved cld feedback to file.\n",
      "2025-02-03 17:14:14,674 - INFO - fb_plank_atm_lr function completed in 177.66 seconds.\n"
     ]
    }
   ],
   "source": [
    "\n",
    "config_file = \"/work/users/malbanese/radspesoft/config.yaml\"\n",
    "palp_feedbacks = fb_plank_atm_lr(config_file)"
   ]
  },
  {
   "cell_type": "markdown",
   "metadata": {},
   "source": [
    "### Albedo feedback"
   ]
  },
  {
   "cell_type": "markdown",
   "metadata": {},
   "source": [
    "### Codice per controllo variabili"
   ]
  },
  {
   "cell_type": "code",
   "execution_count": 6,
   "metadata": {},
   "outputs": [
    {
     "name": "stdout",
     "output_type": "stream",
     "text": [
      "<xarray.DataArray 'rsut' (time_counter: 12, lat: 90, lon: 180)> Size: 2MB\n",
      "[194400 values with dtype=float64]\n",
      "Coordinates:\n",
      "    time_centered  (time_counter) datetime64[ns] 96B ...\n",
      "  * time_counter   (time_counter) datetime64[ns] 96B 1990-01-16T12:00:00 ... ...\n",
      "  * lat            (lat) float64 720B -89.0 -87.0 -85.0 -83.0 ... 85.0 87.0 89.0\n",
      "  * lon            (lon) float64 1kB 0.0 2.0 4.0 6.0 ... 352.0 354.0 356.0 358.0\n",
      "Attributes:\n",
      "    standard_name:       toa_outgoing_shortwave_flux\n",
      "    long_name:           TOA Outgoing Shortwave Radiation\n",
      "    units:               W m-2\n",
      "    online_operation:    average\n",
      "    interval_operation:  2700 s\n",
      "    interval_write:      1 month\n",
      "    cell_methods:        time: mean (interval: 2700 s)\n",
      "0.0 400.0897334693457 104.18397340164633\n"
     ]
    }
   ],
   "source": [
    "import xarray as xr\n",
    "\n",
    "# Carica il file\n",
    "ds = xr.open_dataset(\"/work/users/malbanese/radspesoft/std_sim/oifs/s000_atm_cmip6_1m_1990-1990_regridded.nc\")\n",
    "\n",
    "# Controlla la variabile albsn\n",
    "print(ds[\"rsut\"])\n",
    "print(ds[\"rsut\"].min().values, ds[\"rsut\"].max().values, ds[\"rsut\"].mean().values)"
   ]
  },
  {
   "cell_type": "code",
   "execution_count": 4,
   "metadata": {},
   "outputs": [
    {
     "name": "stderr",
     "output_type": "stream",
     "text": [
      "2025-01-23 17:35:10,039 - INFO - Starting fb_planck_surf function.\n",
      "2025-01-23 17:35:10,041 - INFO - Loading kernel data from file.\n",
      "2025-01-23 17:35:10,135 - INFO - Loading input files.\n",
      "2025-01-23 17:35:10,715 - INFO - Dataset size: (144, 90, 180)\n",
      "2025-01-23 17:35:13,417 - INFO - Computing climatology.\n"
     ]
    },
    {
     "name": "stdout",
     "output_type": "stream",
     "text": [
      "Regridding completed in 0:00:02.698074\n",
      "Regridding completed in 0:00:00.499942\n"
     ]
    },
    {
     "name": "stderr",
     "output_type": "stream",
     "text": [
      "2025-01-23 17:35:16,602 - INFO - Var (albsn) min: 0.0, max: 9.924177056653568e+18, mean: 2.278909029579529e+16\n",
      "2025-01-23 17:35:16,606 - INFO - Piok (climatology) min: 0.0, max: 9.924177056653566e+18, mean: 3.4625538266262844e+16\n",
      "2025-01-23 17:35:17,330 - INFO - Anomalies min: -8.642549170752053e+18, max: 3.420931806838033e+18, mean: -1.183644797046756e+16\n",
      "2025-01-23 17:35:17,777 - INFO - Anomalies min: -8.642549170752053e+18, max: 3.420931806838033e+18, mean: -1.183644797046756e+16\n",
      "2025-01-23 17:35:17,778 - INFO - Processing feedbacks for clr.\n",
      "2025-01-23 17:35:17,977 - INFO - Saved clr feedback to file.\n",
      "2025-01-23 17:35:17,978 - INFO - Processing feedbacks for cld.\n",
      "2025-01-23 17:35:18,190 - INFO - Saved cld feedback to file.\n",
      "2025-01-23 17:35:18,193 - INFO - Function completed in 8.15 seconds.\n"
     ]
    }
   ],
   "source": [
    "\n",
    "config_file = \"/work/users/malbanese/radspesoft/config.yaml\"\n",
    "alb_feedback = fb_albedo(config_file)"
   ]
  },
  {
   "cell_type": "markdown",
   "metadata": {},
   "source": [
    "### Water Vapour Feedback"
   ]
  },
  {
   "cell_type": "code",
   "execution_count": 6,
   "metadata": {},
   "outputs": [
    {
     "name": "stderr",
     "output_type": "stream",
     "text": [
      "2025-02-03 17:29:53,943 - INFO - Starting fb_planck_surf function.\n",
      "2025-02-03 17:29:53,954 - INFO - Loading kernel data from file.\n"
     ]
    },
    {
     "name": "stdout",
     "output_type": "stream",
     "text": [
      "Regridding completed in 0:00:02.777141\n",
      "Regridding completed in 0:00:00.295325\n"
     ]
    },
    {
     "name": "stderr",
     "output_type": "stream",
     "text": [
      "2025-02-03 17:30:13,949 - INFO - Function completed in 16.17 seconds.\n",
      "2025-02-03 17:30:14,036 - INFO - Loading input files.\n",
      "2025-02-03 17:30:14,494 - INFO - Computing climatology.\n"
     ]
    },
    {
     "name": "stdout",
     "output_type": "stream",
     "text": [
      "Regridding completed in 0:00:00.281152\n",
      "Regridding completed in 0:00:00.306323\n"
     ]
    },
    {
     "name": "stderr",
     "output_type": "stream",
     "text": [
      "2025-02-03 17:30:16,796 - INFO - Computing anomalies.\n",
      "2025-02-03 17:30:19,355 - INFO - Processing feedbacks for clr.\n",
      "2025-02-03 17:30:21,747 - INFO - Saved clr feedback to file.\n",
      "2025-02-03 17:30:21,749 - INFO - Processing feedbacks for cld.\n",
      "2025-02-03 17:30:23,308 - INFO - Saved cld feedback to file.\n",
      "2025-02-03 17:30:23,309 - INFO - Function completed in 29.36 seconds.\n"
     ]
    }
   ],
   "source": [
    "\n",
    "config_file = \"/work/users/malbanese/radspesoft/config.yaml\"\n",
    "wv_feedback = fb_wv(config_file)"
   ]
  },
  {
   "cell_type": "markdown",
   "metadata": {},
   "source": [
    "### All feedbacks"
   ]
  },
  {
   "cell_type": "code",
   "execution_count": 8,
   "metadata": {},
   "outputs": [
    {
     "name": "stderr",
     "output_type": "stream",
     "text": [
      "2025-01-28 12:02:41,478 - INFO - Starting fb_planck_surf function.\n",
      "2025-01-28 12:02:41,480 - INFO - planck surf\n",
      "2025-01-28 12:02:41,482 - INFO - planck atm\n",
      "2025-01-28 12:02:41,483 - INFO - albedo\n",
      "2025-01-28 12:02:41,484 - INFO - w-v\n",
      "2025-01-28 12:02:41,499 - INFO - calcolo feedback\n"
     ]
    },
    {
     "ename": "AttributeError",
     "evalue": "'DataArray' object has no attribute 'year'",
     "output_type": "error",
     "traceback": [
      "\u001b[0;31m---------------------------------------------------------------------------\u001b[0m",
      "\u001b[0;31mAttributeError\u001b[0m                            Traceback (most recent call last)",
      "Cell \u001b[0;32mIn[8], line 12\u001b[0m\n\u001b[1;32m      9\u001b[0m cart_out \u001b[38;5;241m=\u001b[39m \u001b[38;5;124m\"\u001b[39m\u001b[38;5;124m/work/users/malbanese/radspesoft/output/rad_Huang/s003_feedbacks/\u001b[39m\u001b[38;5;124m\"\u001b[39m\n\u001b[1;32m     10\u001b[0m pressure_directory\u001b[38;5;241m=\u001b[39m\u001b[38;5;124m\"\u001b[39m\u001b[38;5;124m/work/users/malbanese/radspesoft/std_sim/oifs\u001b[39m\u001b[38;5;124m\"\u001b[39m\n\u001b[0;32m---> 12\u001b[0m all_feedback \u001b[38;5;241m=\u001b[39m \u001b[43mcalc_fb\u001b[49m\u001b[43m(\u001b[49m\u001b[43mt_sim\u001b[49m\u001b[43m,\u001b[49m\u001b[43m \u001b[49m\u001b[43mt_sim1\u001b[49m\u001b[43m,\u001b[49m\u001b[43m \u001b[49m\u001b[43mstd_sim\u001b[49m\u001b[43m,\u001b[49m\u001b[43m \u001b[49m\u001b[43mstd_sim1\u001b[49m\u001b[43m,\u001b[49m\u001b[43m \u001b[49m\u001b[43mcart_out\u001b[49m\u001b[43m,\u001b[49m\u001b[43m \u001b[49m\u001b[43mcart_ck\u001b[49m\u001b[43m,\u001b[49m\u001b[43m \u001b[49m\u001b[43mcart_k\u001b[49m\u001b[43m,\u001b[49m\u001b[43m \u001b[49m\u001b[43mpressure_directory\u001b[49m\u001b[43m,\u001b[49m\u001b[43m \u001b[49m\u001b[43muse_climatology\u001b[49m\u001b[43m \u001b[49m\u001b[38;5;241;43m=\u001b[39;49m\u001b[43m \u001b[49m\u001b[38;5;28;43;01mTrue\u001b[39;49;00m\u001b[43m,\u001b[49m\u001b[43m \u001b[49m\u001b[43mtime_chunk\u001b[49m\u001b[38;5;241;43m=\u001b[39;49m\u001b[38;5;241;43m12\u001b[39;49m\u001b[43m)\u001b[49m\n",
      "File \u001b[0;32m/work/users/malbanese/radspesoft/utils.py:947\u001b[0m, in \u001b[0;36mcalc_fb\u001b[0;34m(filin_4c, filin_4c1, filin_pi, filin_pi1, cart_out, cart_ck, cart_k, pressure_directory, use_climatology, time_chunk)\u001b[0m\n\u001b[1;32m    945\u001b[0m \u001b[38;5;28;01mfor\u001b[39;00m fbn \u001b[38;5;129;01min\u001b[39;00m fbnams:\n\u001b[1;32m    946\u001b[0m     feedbacks\u001b[38;5;241m=\u001b[39mxr\u001b[38;5;241m.\u001b[39mopen_dataarray(cart_out\u001b[38;5;241m+\u001b[39m\u001b[38;5;124m\"\u001b[39m\u001b[38;5;124mdRt_\u001b[39m\u001b[38;5;124m\"\u001b[39m \u001b[38;5;241m+\u001b[39mfbn\u001b[38;5;241m+\u001b[39m\u001b[38;5;124m\"\u001b[39m\u001b[38;5;124m_global_\u001b[39m\u001b[38;5;124m\"\u001b[39m\u001b[38;5;241m+\u001b[39mtip\u001b[38;5;241m+\u001b[39m cos\u001b[38;5;241m+\u001b[39m\u001b[38;5;124m\"\u001b[39m\u001b[38;5;124m.nc\u001b[39m\u001b[38;5;124m\"\u001b[39m,  use_cftime\u001b[38;5;241m=\u001b[39m\u001b[38;5;28;01mTrue\u001b[39;00m)\n\u001b[0;32m--> 947\u001b[0m     feedback\u001b[38;5;241m=\u001b[39mfeedbacks\u001b[38;5;241m.\u001b[39mgroupby((\u001b[43mfeedbacks\u001b[49m\u001b[38;5;241;43m.\u001b[39;49m\u001b[43myear\u001b[49m\u001b[38;5;241m-\u001b[39m\u001b[38;5;241m1\u001b[39m) \u001b[38;5;241m/\u001b[39m\u001b[38;5;241m/\u001b[39m \u001b[38;5;241m10\u001b[39m \u001b[38;5;241m*\u001b[39m \u001b[38;5;241m10\u001b[39m)\u001b[38;5;241m.\u001b[39mmean()\n\u001b[1;32m    949\u001b[0m     res \u001b[38;5;241m=\u001b[39m stats\u001b[38;5;241m.\u001b[39mlinregress(gtas, feedback)\n\u001b[1;32m    950\u001b[0m     fb_coef[(tip, fbn)] \u001b[38;5;241m=\u001b[39m res\n",
      "File \u001b[0;32m~/miniconda3/envs/spectfbcalc/lib/python3.11/site-packages/xarray/core/common.py:305\u001b[0m, in \u001b[0;36mAttrAccessMixin.__getattr__\u001b[0;34m(self, name)\u001b[0m\n\u001b[1;32m    303\u001b[0m         \u001b[38;5;28;01mwith\u001b[39;00m suppress(\u001b[38;5;167;01mKeyError\u001b[39;00m):\n\u001b[1;32m    304\u001b[0m             \u001b[38;5;28;01mreturn\u001b[39;00m source[name]\n\u001b[0;32m--> 305\u001b[0m \u001b[38;5;28;01mraise\u001b[39;00m \u001b[38;5;167;01mAttributeError\u001b[39;00m(\n\u001b[1;32m    306\u001b[0m     \u001b[38;5;124mf\u001b[39m\u001b[38;5;124m\"\u001b[39m\u001b[38;5;132;01m{\u001b[39;00m\u001b[38;5;28mtype\u001b[39m(\u001b[38;5;28mself\u001b[39m)\u001b[38;5;241m.\u001b[39m\u001b[38;5;18m__name__\u001b[39m\u001b[38;5;132;01m!r}\u001b[39;00m\u001b[38;5;124m object has no attribute \u001b[39m\u001b[38;5;132;01m{\u001b[39;00mname\u001b[38;5;132;01m!r}\u001b[39;00m\u001b[38;5;124m\"\u001b[39m\n\u001b[1;32m    307\u001b[0m )\n",
      "\u001b[0;31mAttributeError\u001b[0m: 'DataArray' object has no attribute 'year'"
     ]
    }
   ],
   "source": [
    "# Change the path of t_sim and t_sim1\n",
    "\n",
    "t_sim = \"/work/users/malbanese/radspesoft/t_sim/s003/oifs/s003_atm_cmip6_1m_*_regridded.nc\"\n",
    "t_sim1 = \"/work/users/malbanese/radspesoft/t_sim/s003/oifs/s003_atm_cmip6_pl_1m_*_regridded.nc\"\n",
    "std_sim = \"/work/users/malbanese/radspesoft/std_sim/oifs/s000_atm_cmip6_1m_*_regridded.nc\"\n",
    "std_sim1 = \"/work/users/malbanese/radspesoft/std_sim/oifs/s000_atm_cmip6_pl_1m_*_regridded.nc\"\n",
    "cart_k = \"/work/users/malbanese/radspesoft/kernels/Huang/toa/RRTMG_{}_toa_{}_highR.nc\"\n",
    "cart_ck = \"/work/users/malbanese/radspesoft/output/rad_Huang/\"\n",
    "cart_out = \"/work/users/malbanese/radspesoft/output/rad_Huang/s003_feedbacks/\"\n",
    "pressure_directory=\"/work/users/malbanese/radspesoft/std_sim/oifs\"\n",
    "\n",
    "all_feedback = calc_fb(t_sim, t_sim1, std_sim, std_sim1, cart_out, cart_ck, cart_k, pressure_directory, use_climatology = True, time_chunk=12)"
   ]
  },
  {
   "cell_type": "markdown",
   "metadata": {},
   "source": [
    "### Clouds feedback"
   ]
  },
  {
   "cell_type": "code",
   "execution_count": 9,
   "metadata": {},
   "outputs": [
    {
     "name": "stderr",
     "output_type": "stream",
     "text": [
      "2025-01-28 12:02:48,150 - INFO - Starting fb_cloud function.\n",
      "2025-01-28 12:02:48,189 - INFO - Starting fb_planck_surf function.\n",
      "2025-01-28 12:02:48,190 - INFO - planck surf\n",
      "2025-01-28 12:02:48,191 - INFO - planck atm\n",
      "2025-01-28 12:02:48,192 - INFO - albedo\n",
      "2025-01-28 12:02:48,193 - INFO - w-v\n",
      "2025-01-28 12:02:48,217 - INFO - calcolo feedback\n"
     ]
    },
    {
     "ename": "AttributeError",
     "evalue": "'DataArray' object has no attribute 'year'",
     "output_type": "error",
     "traceback": [
      "\u001b[0;31m---------------------------------------------------------------------------\u001b[0m",
      "\u001b[0;31mAttributeError\u001b[0m                            Traceback (most recent call last)",
      "Cell \u001b[0;32mIn[9], line 12\u001b[0m\n\u001b[1;32m      9\u001b[0m cart_out \u001b[38;5;241m=\u001b[39m \u001b[38;5;124m\"\u001b[39m\u001b[38;5;124m/work/users/malbanese/radspesoft/output/rad_Huang/s003_feedbacks/\u001b[39m\u001b[38;5;124m\"\u001b[39m\n\u001b[1;32m     10\u001b[0m pressure_directory\u001b[38;5;241m=\u001b[39m\u001b[38;5;124m\"\u001b[39m\u001b[38;5;124m/work/users/malbanese/radspesoft/std_sim/oifs\u001b[39m\u001b[38;5;124m\"\u001b[39m\n\u001b[0;32m---> 12\u001b[0m cloud_feedback \u001b[38;5;241m=\u001b[39m \u001b[43mfb_cloud\u001b[49m\u001b[43m(\u001b[49m\u001b[43mt_sim\u001b[49m\u001b[43m,\u001b[49m\u001b[43m \u001b[49m\u001b[43mt_sim1\u001b[49m\u001b[43m,\u001b[49m\u001b[43m \u001b[49m\u001b[43mstd_sim\u001b[49m\u001b[43m,\u001b[49m\u001b[43m \u001b[49m\u001b[43mstd_sim1\u001b[49m\u001b[43m,\u001b[49m\u001b[43m \u001b[49m\u001b[43mcart_out\u001b[49m\u001b[43m,\u001b[49m\u001b[43m \u001b[49m\u001b[43mcart_ck\u001b[49m\u001b[43m,\u001b[49m\u001b[43m \u001b[49m\u001b[43mcart_k\u001b[49m\u001b[43m,\u001b[49m\u001b[43m \u001b[49m\u001b[43mpressure_directory\u001b[49m\u001b[43m,\u001b[49m\u001b[43m \u001b[49m\u001b[43muse_climatology\u001b[49m\u001b[38;5;241;43m=\u001b[39;49m\u001b[38;5;28;43;01mTrue\u001b[39;49;00m\u001b[43m,\u001b[49m\u001b[43m \u001b[49m\u001b[43mtime_chunk\u001b[49m\u001b[38;5;241;43m=\u001b[39;49m\u001b[38;5;241;43m12\u001b[39;49m\u001b[43m)\u001b[49m\n\u001b[1;32m     14\u001b[0m \u001b[38;5;28mprint\u001b[39m(cloud_feedback)\n",
      "File \u001b[0;32m/work/users/malbanese/radspesoft/utils.py:1030\u001b[0m, in \u001b[0;36mfb_cloud\u001b[0;34m(filin_4c, filin_4c1, filin_pi, filin_pi1, cart_out, cart_ck, cart_k, pressure_directory, use_climatology, time_chunk)\u001b[0m\n\u001b[1;32m   1028\u001b[0m pimean\u001b[38;5;241m=\u001b[39m\u001b[38;5;28mdict\u001b[39m()\n\u001b[1;32m   1029\u001b[0m fb_coef\u001b[38;5;241m=\u001b[39m\u001b[38;5;28mdict\u001b[39m()\n\u001b[0;32m-> 1030\u001b[0m fb_coef\u001b[38;5;241m=\u001b[39m\u001b[43mcalc_fb\u001b[49m\u001b[43m(\u001b[49m\u001b[43mfilin_4c\u001b[49m\u001b[43m,\u001b[49m\u001b[43m \u001b[49m\u001b[43mfilin_4c1\u001b[49m\u001b[43m,\u001b[49m\u001b[43m \u001b[49m\u001b[43mfilin_pi\u001b[49m\u001b[43m,\u001b[49m\u001b[43m \u001b[49m\u001b[43mfilin_pi1\u001b[49m\u001b[43m,\u001b[49m\u001b[43m \u001b[49m\u001b[43mcart_out\u001b[49m\u001b[43m,\u001b[49m\u001b[43m \u001b[49m\u001b[43mcart_ck\u001b[49m\u001b[43m,\u001b[49m\u001b[43m \u001b[49m\u001b[43mcart_k\u001b[49m\u001b[43m,\u001b[49m\u001b[43m \u001b[49m\u001b[43mpressure_directory\u001b[49m\u001b[43m,\u001b[49m\u001b[43m \u001b[49m\u001b[43muse_climatology\u001b[49m\u001b[43m,\u001b[49m\u001b[43m \u001b[49m\u001b[43mtime_chunk\u001b[49m\u001b[43m)\u001b[49m\n\u001b[1;32m   1032\u001b[0m logging\u001b[38;5;241m.\u001b[39minfo(\u001b[38;5;124m\"\u001b[39m\u001b[38;5;124mLoading input files.\u001b[39m\u001b[38;5;124m\"\u001b[39m) \n\u001b[1;32m   1033\u001b[0m filist \u001b[38;5;241m=\u001b[39m glob\u001b[38;5;241m.\u001b[39mglob(filin_4c\u001b[38;5;241m.\u001b[39mformat(\u001b[38;5;124m'\u001b[39m\u001b[38;5;124mrlut\u001b[39m\u001b[38;5;124m'\u001b[39m))\n",
      "File \u001b[0;32m/work/users/malbanese/radspesoft/utils.py:947\u001b[0m, in \u001b[0;36mcalc_fb\u001b[0;34m(filin_4c, filin_4c1, filin_pi, filin_pi1, cart_out, cart_ck, cart_k, pressure_directory, use_climatology, time_chunk)\u001b[0m\n\u001b[1;32m    945\u001b[0m \u001b[38;5;28;01mfor\u001b[39;00m fbn \u001b[38;5;129;01min\u001b[39;00m fbnams:\n\u001b[1;32m    946\u001b[0m     feedbacks\u001b[38;5;241m=\u001b[39mxr\u001b[38;5;241m.\u001b[39mopen_dataarray(cart_out\u001b[38;5;241m+\u001b[39m\u001b[38;5;124m\"\u001b[39m\u001b[38;5;124mdRt_\u001b[39m\u001b[38;5;124m\"\u001b[39m \u001b[38;5;241m+\u001b[39mfbn\u001b[38;5;241m+\u001b[39m\u001b[38;5;124m\"\u001b[39m\u001b[38;5;124m_global_\u001b[39m\u001b[38;5;124m\"\u001b[39m\u001b[38;5;241m+\u001b[39mtip\u001b[38;5;241m+\u001b[39m cos\u001b[38;5;241m+\u001b[39m\u001b[38;5;124m\"\u001b[39m\u001b[38;5;124m.nc\u001b[39m\u001b[38;5;124m\"\u001b[39m,  use_cftime\u001b[38;5;241m=\u001b[39m\u001b[38;5;28;01mTrue\u001b[39;00m)\n\u001b[0;32m--> 947\u001b[0m     feedback\u001b[38;5;241m=\u001b[39mfeedbacks\u001b[38;5;241m.\u001b[39mgroupby((\u001b[43mfeedbacks\u001b[49m\u001b[38;5;241;43m.\u001b[39;49m\u001b[43myear\u001b[49m\u001b[38;5;241m-\u001b[39m\u001b[38;5;241m1\u001b[39m) \u001b[38;5;241m/\u001b[39m\u001b[38;5;241m/\u001b[39m \u001b[38;5;241m10\u001b[39m \u001b[38;5;241m*\u001b[39m \u001b[38;5;241m10\u001b[39m)\u001b[38;5;241m.\u001b[39mmean()\n\u001b[1;32m    949\u001b[0m     res \u001b[38;5;241m=\u001b[39m stats\u001b[38;5;241m.\u001b[39mlinregress(gtas, feedback)\n\u001b[1;32m    950\u001b[0m     fb_coef[(tip, fbn)] \u001b[38;5;241m=\u001b[39m res\n",
      "File \u001b[0;32m~/miniconda3/envs/spectfbcalc/lib/python3.11/site-packages/xarray/core/common.py:305\u001b[0m, in \u001b[0;36mAttrAccessMixin.__getattr__\u001b[0;34m(self, name)\u001b[0m\n\u001b[1;32m    303\u001b[0m         \u001b[38;5;28;01mwith\u001b[39;00m suppress(\u001b[38;5;167;01mKeyError\u001b[39;00m):\n\u001b[1;32m    304\u001b[0m             \u001b[38;5;28;01mreturn\u001b[39;00m source[name]\n\u001b[0;32m--> 305\u001b[0m \u001b[38;5;28;01mraise\u001b[39;00m \u001b[38;5;167;01mAttributeError\u001b[39;00m(\n\u001b[1;32m    306\u001b[0m     \u001b[38;5;124mf\u001b[39m\u001b[38;5;124m\"\u001b[39m\u001b[38;5;132;01m{\u001b[39;00m\u001b[38;5;28mtype\u001b[39m(\u001b[38;5;28mself\u001b[39m)\u001b[38;5;241m.\u001b[39m\u001b[38;5;18m__name__\u001b[39m\u001b[38;5;132;01m!r}\u001b[39;00m\u001b[38;5;124m object has no attribute \u001b[39m\u001b[38;5;132;01m{\u001b[39;00mname\u001b[38;5;132;01m!r}\u001b[39;00m\u001b[38;5;124m\"\u001b[39m\n\u001b[1;32m    307\u001b[0m )\n",
      "\u001b[0;31mAttributeError\u001b[0m: 'DataArray' object has no attribute 'year'"
     ]
    }
   ],
   "source": [
    "# Change the path of t_sim and t_sim1\n",
    "\n",
    "t_sim = \"/work/users/malbanese/radspesoft/t_sim/s003/oifs/s003_atm_cmip6_1m_*_regridded.nc\"\n",
    "t_sim1 = \"/work/users/malbanese/radspesoft/t_sim/s003/oifs/s003_atm_cmip6_pl_1m_*_regridded.nc\"\n",
    "std_sim = \"/work/users/malbanese/radspesoft/std_sim/oifs/s000_atm_cmip6_1m_*_regridded.nc\"\n",
    "std_sim1 = \"/work/users/malbanese/radspesoft/std_sim/oifs/s000_atm_cmip6_pl_1m_*_regridded.nc\"\n",
    "cart_k = \"/work/users/malbanese/radspesoft/kernels/Huang/toa/RRTMG_{}_toa_{}_highR.nc\"\n",
    "cart_ck = \"/work/users/malbanese/radspesoft/output/rad_Huang/\"\n",
    "cart_out = \"/work/users/malbanese/radspesoft/output/rad_Huang/s003_feedbacks/\"\n",
    "pressure_directory=\"/work/users/malbanese/radspesoft/std_sim/oifs\"\n",
    "\n",
    "cloud_feedback = fb_cloud(t_sim, t_sim1, std_sim, std_sim1, cart_out, cart_ck, cart_k, pressure_directory, use_climatology=True, time_chunk=12)\n",
    "\n",
    "print(cloud_feedback)"
   ]
  },
  {
   "cell_type": "markdown",
   "metadata": {},
   "source": [
    "### Plot Spectra"
   ]
  },
  {
   "cell_type": "code",
   "execution_count": 7,
   "metadata": {},
   "outputs": [
    {
     "name": "stdout",
     "output_type": "stream",
     "text": [
      "Processed: dRt_lapse-rate_global_clr_climatology.nc, dRt = -0.061150\n",
      "Processed: dRt_planck-atmo_global_clr_climatology.nc, dRt = 0.005385\n",
      "Processed: dRt_planck-surf_global_clr_climatology.nc, dRt = 0.004802\n",
      "Processed: dRt_water-vapor_global_clr_climatology.nc, dRt = 0.265039\n"
     ]
    },
    {
     "data": {
      "image/png": "[encoded data removed]",
      "text/plain": [
       "<Figure size 800x600 with 1 Axes>"
      ]
     },
     "metadata": {},
     "output_type": "display_data"
    }
   ],
   "source": [
    "folder_path = \"/work/users/malbanese/radspesoft/output/rad_Huang/s003_feedbacks\"\n",
    "files = [\n",
    "    \"dRt_lapse-rate_global_clr_climatology.nc\",\n",
    "    \"dRt_planck-atmo_global_clr_climatology.nc\",\n",
    "    \"dRt_planck-surf_global_clr_climatology.nc\",\n",
    "    \"dRt_water-vapor_global_clr_climatology.nc\"\n",
    "]\n",
    "variations = [30, 30, 30, 30]  # Stessa variazione per tutti i feedback\n",
    "labels = [\"Lapse Rate\", \"Planck Atmosphere\", \"Planck Surface\", \"Water Vapor\"]  # Nomi dei feedback\n",
    "xlabel = \"%\"\n",
    "ylabel = \"dRt\"\n",
    "title = \"RPRCON\"\n",
    "\n",
    "plot_dRt(folder_path, files, variations, xlabel, ylabel, title, labels)"
   ]
  }
 ],
 "metadata": {
  "kernelspec": {
   "display_name": "spectfbcalc",
   "language": "python",
   "name": "python3"
  },
  "language_info": {
   "codemirror_mode": {
    "name": "ipython",
    "version": 3
   },
   "file_extension": ".py",
   "mimetype": "text/x-python",
   "name": "python",
   "nbconvert_exporter": "python",
   "pygments_lexer": "ipython3",
   "version": "3.11.11"
  }
 },
 "nbformat": 4,
 "nbformat_minor": 2
}
